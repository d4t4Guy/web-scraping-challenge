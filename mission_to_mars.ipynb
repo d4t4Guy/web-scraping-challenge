{
 "cells": [
  {
   "cell_type": "code",
   "execution_count": null,
   "metadata": {},
   "outputs": [],
   "source": []
  },
  {
   "cell_type": "code",
   "execution_count": null,
   "metadata": {},
   "outputs": [],
   "source": []
  },
  {
   "cell_type": "code",
   "execution_count": null,
   "metadata": {},
   "outputs": [],
   "source": []
  },
  {
   "cell_type": "code",
   "execution_count": null,
   "metadata": {},
   "outputs": [],
   "source": []
  },
  {
   "cell_type": "code",
   "execution_count": 1,
   "metadata": {},
   "outputs": [],
   "source": [
    "#dependencies:\n",
    "\n",
    "import time #allows for sleep method. To-Do: Research if there is a method that doesn't require an additional module\n",
    "from bs4 import BeautifulSoup #html parser\n",
    "\n",
    "#required for splinter\n",
    "from webdriver_manager.chrome import ChromeDriverManager\n",
    "from splinter import Browser"
   ]
  },
  {
   "cell_type": "code",
   "execution_count": 2,
   "metadata": {},
   "outputs": [
    {
     "name": "stderr",
     "output_type": "stream",
     "text": [
      "[WDM] - ====== WebDriver manager ======\n",
      "[WDM] - Current google-chrome version is 89.0.4389\n",
      "[WDM] - Get LATEST driver version for 89.0.4389\n"
     ]
    },
    {
     "name": "stdout",
     "output_type": "stream",
     "text": [
      "\n",
      "\n"
     ]
    },
    {
     "name": "stderr",
     "output_type": "stream",
     "text": [
      "[WDM] - Driver [C:\\Users\\Test\\.wdm\\drivers\\chromedriver\\win32\\89.0.4389.23\\chromedriver.exe] found in cache\n"
     ]
    }
   ],
   "source": [
    "#create driver\n",
    "executable_path = {'executable_path':ChromeDriverManager().install()}  #To-do: continue searching for more efficient method\n",
    "#set up browser\n",
    "browser = Browser('chrome', **executable_path, headless=False)\n",
    "#path provided by instruction\n",
    "news_path = 'https://mars.nasa.gov/news/'\n",
    "browser.visit(news_path)\n",
    "time.sleep(5)\n",
    "html = browser.html\n",
    "\n",
    "#use bs4 to parse the title and paragraph\n",
    "soup=BeautifulSoup(html, 'html.parser') #returns a soup object\n",
    "news_title=soup.look_for(<tag>, <class_name>)\n",
    "#news_paragraph=soup.look_for(<tag>, <class_name>)\n",
    "\n"
   ]
  },
  {
   "cell_type": "code",
   "execution_count": null,
   "metadata": {
    "scrolled": true
   },
   "outputs": [],
   "source": [
    "soup"
   ]
  },
  {
   "cell_type": "code",
   "execution_count": null,
   "metadata": {},
   "outputs": [],
   "source": [
    "type(soup)"
   ]
  },
  {
   "cell_type": "code",
   "execution_count": null,
   "metadata": {},
   "outputs": [],
   "source": [
    "print(soup.prettify)"
   ]
  },
  {
   "cell_type": "code",
   "execution_count": 4,
   "metadata": {},
   "outputs": [
    {
     "name": "stdout",
     "output_type": "stream",
     "text": [
      "http://www.nasa.gov\n",
      "https://science.nasa.gov/\n",
      "/mars-exploration/#\n",
      "#page\n",
      "javascript:void(0);\n",
      "None\n",
      "/explore/mars-now\n",
      "/explore/mars-now\n",
      "/explore/mars-now/\n",
      "/#red_planet\n",
      "/#red_planet/0\n",
      "/#red_planet/1\n",
      "/#red_planet/2\n",
      "/#red_planet/3\n",
      "/#red_planet/4\n",
      "/#red_planet/5\n",
      "/#red_planet/0\n",
      "/#red_planet/1\n",
      "/#red_planet/2\n",
      "/#red_planet/3\n",
      "/#red_planet/4\n",
      "/#red_planet/5\n",
      "/#mars_exploration_program\n",
      "/#mars_exploration_program/0\n",
      "/#mars_exploration_program/1\n",
      "/#mars_exploration_program/2\n",
      "/#mars_exploration_program/3\n",
      "/#mars_exploration_program/4\n",
      "/#mars_exploration_program/5\n",
      "/#mars_exploration_program/6\n",
      "/#mars_exploration_program/0\n",
      "/#mars_exploration_program/1\n",
      "/#mars_exploration_program/2\n",
      "/#mars_exploration_program/3\n",
      "/#mars_exploration_program/4\n",
      "/#mars_exploration_program/5\n",
      "/#mars_exploration_program/6\n",
      "/#news_and_events\n",
      "/news\n",
      "/events\n",
      "/news\n",
      "/events\n",
      "/#multimedia\n",
      "/multimedia/images/\n",
      "/multimedia/videos/\n",
      "/mars2020/multimedia/audio/\n",
      "/multimedia/more-resources/\n",
      "/multimedia/images/\n",
      "/multimedia/videos/\n",
      "/mars2020/multimedia/audio/\n",
      "/multimedia/more-resources/\n",
      "None\n",
      "/mars-exploration/missions/?category=167\n",
      "/mars-exploration/missions/?category=170\n",
      "/mars-exploration/missions/?category=171\n",
      "/mars-exploration/partners\n",
      "/mars-exploration/missions/?category=167\n",
      "/mars-exploration/missions/?category=170\n",
      "/mars-exploration/missions/?category=171\n",
      "/mars-exploration/partners\n",
      "None\n",
      "https://mars.nasa.gov/mars2020/\n",
      "https://mars.nasa.gov/msl/home/\n",
      "https://mars.nasa.gov/insight/\n",
      "https://mars.nasa.gov/maven/\n",
      "https://mars.nasa.gov/mro/\n",
      "https://mars.nasa.gov/odyssey/\n",
      "/mars-exploration/missions\n",
      "/mars-exploration/partners\n",
      "/#more\n",
      "/news/8888/new-study-challenges-long-held-theory-of-fate-of-mars-water/\n",
      "/news/8888/new-study-challenges-long-held-theory-of-fate-of-mars-water/\n",
      "/news/8886/nasas-perseverance-mars-rover-mission-honors-navajo-language/\n",
      "/news/8886/nasas-perseverance-mars-rover-mission-honors-navajo-language/\n",
      "/news/8885/perseverance-rovers-supercam-science-instrument-delivers-first-results/\n",
      "/news/8885/perseverance-rovers-supercam-science-instrument-delivers-first-results/\n",
      "/news/8882/nasas-perseverance-drives-on-mars-terrain-for-first-time/\n",
      "/news/8882/nasas-perseverance-drives-on-mars-terrain-for-first-time/\n",
      "/news/8881/media-telecon-materials-march-5-2021/\n",
      "/news/8881/media-telecon-materials-march-5-2021/\n",
      "/news/8880/nasa-awards-mars-ascent-propulsion-system-contract-for-sample-return/\n",
      "/news/8880/nasa-awards-mars-ascent-propulsion-system-contract-for-sample-return/\n",
      "/news/8878/nasa-to-provide-update-on-perseverance-firsts-since-mars-landing/\n",
      "/news/8878/nasa-to-provide-update-on-perseverance-firsts-since-mars-landing/\n",
      "/news/8875/testing-proves-its-worth-with-successful-mars-parachute-deployment/\n",
      "/news/8875/testing-proves-its-worth-with-successful-mars-parachute-deployment/\n",
      "/news/8873/nasas-perseverance-rover-gives-high-definition-panoramic-view-of-landing-site/\n",
      "/news/8873/nasas-perseverance-rover-gives-high-definition-panoramic-view-of-landing-site/\n",
      "/news/8872/nearly-11-million-names-of-earthlings-are-on-mars-perseverance/\n",
      "/news/8872/nearly-11-million-names-of-earthlings-are-on-mars-perseverance/\n",
      "/news/8870/nasas-mars-perseverance-rover-provides-front-row-seat-to-landing-first-audio-recording-of-red-planet/\n",
      "/news/8870/nasas-mars-perseverance-rover-provides-front-row-seat-to-landing-first-audio-recording-of-red-planet/\n",
      "/news/8868/nasa-to-reveal-new-video-images-from-mars-perseverance-rover/\n",
      "/news/8868/nasa-to-reveal-new-video-images-from-mars-perseverance-rover/\n",
      "/news/8867/nasas-mars-helicopter-reports-in/\n",
      "/news/8867/nasas-mars-helicopter-reports-in/\n",
      "/news/8866/nasas-perseverance-rover-sends-sneak-peek-of-mars-landing/\n",
      "/news/8866/nasas-perseverance-rover-sends-sneak-peek-of-mars-landing/\n",
      "/news/8865/touchdown-nasas-mars-perseverance-rover-safely-lands-on-red-planet/\n",
      "/news/8865/touchdown-nasas-mars-perseverance-rover-safely-lands-on-red-planet/\n",
      "/news/8863/searching-for-life-in-nasas-perseverance-mars-samples/\n",
      "/news/8863/searching-for-life-in-nasas-perseverance-mars-samples/\n",
      "/news/8861/the-mars-relay-network-connects-us-to-nasas-martian-explorers/\n",
      "/news/8861/the-mars-relay-network-connects-us-to-nasas-martian-explorers/\n",
      "/news/8860/nasas-next-mars-rover-is-ready-for-the-most-precise-landing-yet/\n",
      "/news/8860/nasas-next-mars-rover-is-ready-for-the-most-precise-landing-yet/\n",
      "/news/8859/sensors-prepare-to-collect-data-as-perseverance-enters-mars-atmosphere/\n",
      "/news/8859/sensors-prepare-to-collect-data-as-perseverance-enters-mars-atmosphere/\n",
      "/news/8858/insight-is-meeting-the-challenge-of-winter-on-dusty-mars/\n",
      "/news/8858/insight-is-meeting-the-challenge-of-winter-on-dusty-mars/\n",
      "/news/8857/nasa-invites-public-to-share-thrill-of-mars-perseverance-rover-landing/\n",
      "/news/8857/nasa-invites-public-to-share-thrill-of-mars-perseverance-rover-landing/\n",
      "/news/8852/tricky-terrain-helping-to-assure-a-safe-rover-landing/\n",
      "/news/8852/tricky-terrain-helping-to-assure-a-safe-rover-landing/\n",
      "/news/8851/where-should-future-astronauts-land-on-mars-follow-the-water/\n",
      "/news/8851/where-should-future-astronauts-land-on-mars-follow-the-water/\n",
      "/news/8848/nasas-perseverance-pays-off-back-home/\n",
      "/news/8848/nasas-perseverance-pays-off-back-home/\n",
      "/news/8846/could-the-surface-of-phobos-reveal-secrets-of-the-martian-past/\n",
      "/news/8846/could-the-surface-of-phobos-reveal-secrets-of-the-martian-past/\n",
      "/news/8844/nasas-maven-continues-to-advance-mars-science-and-telecommunications-relay-efforts/\n",
      "/news/8844/nasas-maven-continues-to-advance-mars-science-and-telecommunications-relay-efforts/\n",
      "/news/8843/nasas-perseverance-rover-22-days-from-mars-landing/\n",
      "/news/8843/nasas-perseverance-rover-22-days-from-mars-landing/\n",
      "/news/8840/6-things-to-know-about-nasas-mars-helicopter-on-its-way-to-mars/\n",
      "/news/8840/6-things-to-know-about-nasas-mars-helicopter-on-its-way-to-mars/\n",
      "/news/8837/nasa-to-host-virtual-briefing-on-february-perseverance-mars-rover-landing/\n",
      "/news/8837/nasa-to-host-virtual-briefing-on-february-perseverance-mars-rover-landing/\n",
      "/news/8836/nasa-insights-mole-ends-its-journey-on-mars/\n",
      "/news/8836/nasa-insights-mole-ends-its-journey-on-mars/\n",
      "/news/8834/mars-2020-perseverance-rover-to-capture-sounds-from-the-red-planet/\n",
      "/news/8834/mars-2020-perseverance-rover-to-capture-sounds-from-the-red-planet/\n",
      "/news/8832/nasas-curiosity-rover-reaches-its-3000th-day-on-mars/\n",
      "/news/8832/nasas-curiosity-rover-reaches-its-3000th-day-on-mars/\n",
      "/news/8830/celebrate-the-perseverance-rover-landing-with-nasas-student-challenge/\n",
      "/news/8830/celebrate-the-perseverance-rover-landing-with-nasas-student-challenge/\n",
      "/news/8829/nasa-extends-exploration-for-two-planetary-science-missions/\n",
      "/news/8829/nasa-extends-exploration-for-two-planetary-science-missions/\n",
      "/news/8826/7-things-to-know-about-the-nasa-rover-about-to-land-on-mars/\n",
      "/news/8826/7-things-to-know-about-the-nasa-rover-about-to-land-on-mars/\n",
      "/news/8822/a-martian-roundtrip-nasas-perseverance-rover-sample-tubes/\n",
      "/news/8822/a-martian-roundtrip-nasas-perseverance-rover-sample-tubes/\n",
      "/news/8819/nasa-moves-forward-with-campaign-to-return-mars-samples-to-earth/\n",
      "/news/8819/nasa-moves-forward-with-campaign-to-return-mars-samples-to-earth/\n",
      "/news/8817/3-things-weve-learned-from-nasas-mars-insight/\n",
      "/news/8817/3-things-weve-learned-from-nasas-mars-insight/\n",
      "/news/8815/from-jpls-mailroom-to-mars-and-beyond/\n",
      "/news/8815/from-jpls-mailroom-to-mars-and-beyond/\n",
      "/news/8812/5-hidden-gems-are-riding-aboard-nasas-perseverance-rover/\n",
      "/news/8812/5-hidden-gems-are-riding-aboard-nasas-perseverance-rover/\n",
      "#\n",
      "/news/8868/nasa-to-reveal-new-video-images-from-mars-perseverance-rover/\n",
      "/news/8868/nasa-to-reveal-new-video-images-from-mars-perseverance-rover/\n",
      "/news/8860/nasas-next-mars-rover-is-ready-for-the-most-precise-landing-yet/\n",
      "/news/8860/nasas-next-mars-rover-is-ready-for-the-most-precise-landing-yet/\n",
      "/news/8882/nasas-perseverance-drives-on-mars-terrain-for-first-time/\n",
      "/news/8882/nasas-perseverance-drives-on-mars-terrain-for-first-time/\n",
      "/news/8880/nasa-awards-mars-ascent-propulsion-system-contract-for-sample-return/\n",
      "/news/8880/nasa-awards-mars-ascent-propulsion-system-contract-for-sample-return/\n",
      "/news/8878/nasa-to-provide-update-on-perseverance-firsts-since-mars-landing/\n",
      "/news/8878/nasa-to-provide-update-on-perseverance-firsts-since-mars-landing/\n",
      "/news/8870/nasas-mars-perseverance-rover-provides-front-row-seat-to-landing-first-audio-recording-of-red-planet/\n",
      "/news/8870/nasas-mars-perseverance-rover-provides-front-row-seat-to-landing-first-audio-recording-of-red-planet/\n",
      "/news/8868/nasa-to-reveal-new-video-images-from-mars-perseverance-rover/\n",
      "/news/8868/nasa-to-reveal-new-video-images-from-mars-perseverance-rover/\n",
      "/news/8860/nasas-next-mars-rover-is-ready-for-the-most-precise-landing-yet/\n",
      "/news/8860/nasas-next-mars-rover-is-ready-for-the-most-precise-landing-yet/\n",
      "/news/8882/nasas-perseverance-drives-on-mars-terrain-for-first-time/\n",
      "/news/8882/nasas-perseverance-drives-on-mars-terrain-for-first-time/\n",
      "/news/8880/nasa-awards-mars-ascent-propulsion-system-contract-for-sample-return/\n",
      "/news/8880/nasa-awards-mars-ascent-propulsion-system-contract-for-sample-return/\n",
      "//twitter.com/MarsCuriosity\n",
      "http://www.facebook.com/MarsCuriosity\n",
      "http://instagram.com/nasa\n",
      "https://mars.nasa.gov/rss/api/?feed=news&category=all&feedtype=rss\n",
      "/#red_planet\n",
      "/#red_planet/0\n",
      "/#red_planet/1\n",
      "/#red_planet/2\n",
      "/#red_planet/3\n",
      "/#red_planet/4\n",
      "/#red_planet/5\n",
      "/#mars_exploration_program\n",
      "/#mars_exploration_program/0\n",
      "/#mars_exploration_program/1\n",
      "/#mars_exploration_program/2\n",
      "/#mars_exploration_program/3\n",
      "/#mars_exploration_program/4\n",
      "/#mars_exploration_program/5\n",
      "/#mars_exploration_program/6\n",
      "/#news_and_events\n",
      "/news\n",
      "/events\n",
      "/#multimedia\n",
      "/multimedia/images/\n",
      "/multimedia/videos/\n",
      "/mars2020/multimedia/audio/\n",
      "/multimedia/more-resources/\n",
      "/#missions_gallery_subnav\n",
      "/mars-exploration/missions/?category=167\n",
      "/mars-exploration/missions/?category=170\n",
      "/mars-exploration/missions/?category=171\n",
      "/mars-exploration/partners\n",
      "/#more\n",
      "http://science.nasa.gov/\n",
      "https://www.jpl.nasa.gov/copyrights.php\n",
      "http://www.jpl.nasa.gov/imagepolicy/\n",
      "https://mars.nasa.gov/feedback/\n",
      "None\n",
      "None\n",
      "None\n",
      "None\n",
      "None\n",
      "None\n",
      "https://www.addthis.com/website-tools/overview?utm_source=AddThis%20Tools&utm_medium=image\n",
      "#\n",
      "None\n",
      "None\n",
      "None\n",
      "None\n",
      "None\n"
     ]
    }
   ],
   "source": [
    "for link in soup.find_all('a'):\n",
    "    print(link.get('href'))"
   ]
  },
  {
   "cell_type": "code",
   "execution_count": null,
   "metadata": {},
   "outputs": [],
   "source": []
  },
  {
   "cell_type": "code",
   "execution_count": null,
   "metadata": {},
   "outputs": [],
   "source": []
  },
  {
   "cell_type": "code",
   "execution_count": null,
   "metadata": {},
   "outputs": [],
   "source": []
  },
  {
   "cell_type": "code",
   "execution_count": 5,
   "metadata": {
    "scrolled": false
   },
   "outputs": [
    {
     "data": {
      "text/plain": [
       "<function TextIOWrapper.close()>"
      ]
     },
     "execution_count": 5,
     "metadata": {},
     "output_type": "execute_result"
    }
   ],
   "source": [
    "outfile = 'pretty.txt'\n",
    "f = open(outfile, \"w\")\n",
    "f.write(soup.html.prettify())\n",
    "f.close"
   ]
  },
  {
   "cell_type": "code",
   "execution_count": null,
   "metadata": {},
   "outputs": [],
   "source": [
    "import pymongo\n",
    "#conn string\n",
    "mongo_conn= 'mongodb://localhost:27017'\n",
    "\n",
    "pymongo.MongoClient(mongo_conn)"
   ]
  },
  {
   "cell_type": "code",
   "execution_count": null,
   "metadata": {},
   "outputs": [],
   "source": [
    "print(request\n",
    "     )"
   ]
  },
  {
   "cell_type": "code",
   "execution_count": 3,
   "metadata": {},
   "outputs": [],
   "source": [
    "#ALWAYS close browser instance \n",
    "browser.quit()"
   ]
  },
  {
   "cell_type": "code",
   "execution_count": null,
   "metadata": {},
   "outputs": [],
   "source": []
  }
 ],
 "metadata": {
  "kernelspec": {
   "display_name": "Python 3",
   "language": "python",
   "name": "python3"
  },
  "language_info": {
   "codemirror_mode": {
    "name": "ipython",
    "version": 3
   },
   "file_extension": ".py",
   "mimetype": "text/x-python",
   "name": "python",
   "nbconvert_exporter": "python",
   "pygments_lexer": "ipython3",
   "version": "3.8.3"
  }
 },
 "nbformat": 4,
 "nbformat_minor": 4
}
