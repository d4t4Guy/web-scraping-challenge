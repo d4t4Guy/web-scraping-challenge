{
 "cells": [
  {
   "cell_type": "code",
   "execution_count": null,
   "metadata": {},
   "outputs": [],
   "source": []
  },
  {
   "cell_type": "code",
   "execution_count": 51,
   "metadata": {},
   "outputs": [
    {
     "name": "stdout",
     "output_type": "stream",
     "text": [
      "{'executable_path': 'C:\\\\Users\\\\Test\\\\.wdm\\\\drivers\\\\chromedriver\\\\win32\\\\89.0.4389.23\\\\chromedriver.exe'}\n"
     ]
    }
   ],
   "source": [
    "print(executable_path)"
   ]
  },
  {
   "cell_type": "code",
   "execution_count": null,
   "metadata": {},
   "outputs": [],
   "source": []
  },
  {
   "cell_type": "code",
   "execution_count": 48,
   "metadata": {},
   "outputs": [
    {
     "data": {
      "text/plain": [
       "splinter.driver.webdriver.chrome.WebDriver"
      ]
     },
     "execution_count": 48,
     "metadata": {},
     "output_type": "execute_result"
    }
   ],
   "source": [
    "type(browser)"
   ]
  },
  {
   "cell_type": "code",
   "execution_count": 1,
   "metadata": {},
   "outputs": [],
   "source": [
    "#dependencies:\n",
    "import pandas as pd\n",
    "import time #allows for sleep method. To-Do: Research if there is a method that doesn't require an additional module\n",
    "from bs4 import BeautifulSoup #html parser\n",
    "\n",
    "#required for splinter\n",
    "from webdriver_manager.chrome import ChromeDriverManager\n",
    "from splinter import Browser"
   ]
  },
  {
   "cell_type": "code",
   "execution_count": 47,
   "metadata": {},
   "outputs": [
    {
     "name": "stderr",
     "output_type": "stream",
     "text": [
      "[WDM] - ====== WebDriver manager ======\n",
      "[WDM] - Current google-chrome version is 89.0.4389\n",
      "[WDM] - Get LATEST driver version for 89.0.4389\n"
     ]
    },
    {
     "name": "stdout",
     "output_type": "stream",
     "text": [
      "\n",
      "\n"
     ]
    },
    {
     "name": "stderr",
     "output_type": "stream",
     "text": [
      "[WDM] - Driver [C:\\Users\\Test\\.wdm\\drivers\\chromedriver\\win32\\89.0.4389.23\\chromedriver.exe] found in cache\n"
     ]
    }
   ],
   "source": [
    "#create driver\n",
    "executable_path = {'executable_path':ChromeDriverManager().install()}  #To-do: continue searching for more efficient method\n",
    "#set up browser\n",
    "browser = Browser('chrome', **executable_path, headless=False)\n",
    "#path provided by instruction\n",
    "news_path = 'https://mars.nasa.gov/news/'\n",
    "browser.visit(news_path)\n",
    "time.sleep(5)\n",
    "html = browser.html\n",
    "browser.quit()"
   ]
  },
  {
   "cell_type": "code",
   "execution_count": 44,
   "metadata": {
    "scrolled": true
   },
   "outputs": [],
   "source": [
    "#use bs4 to parse the title and paragraph\n",
    "soup=BeautifulSoup(html, 'html.parser') #returns a soup object\n",
    "news_title = soup.find('h3', class_='').text #works correctly 2021-03-17.\n",
    "# Observation that most recent news article headline is under the first \n",
    "# <h3> tag with no CSS class assigned"
   ]
  },
  {
   "cell_type": "code",
   "execution_count": 41,
   "metadata": {},
   "outputs": [],
   "source": [
    "#find first slide, which represents most recent news story. Then find\n",
    "# a div tag with class_ = \"article_teaser_body\" within that \n",
    "\n",
    "news_paragraph =soup.find('li', class_='slide') \\\n",
    "                    .find('div', class_=\"article_teaser_body\").text"
   ]
  },
  {
   "cell_type": "code",
   "execution_count": null,
   "metadata": {
    "scrolled": true
   },
   "outputs": [],
   "source": [
    "print(news_title)"
   ]
  },
  {
   "cell_type": "code",
   "execution_count": null,
   "metadata": {
    "scrolled": true
   },
   "outputs": [],
   "source": [
    "for link in soup.find_all('a'):\n",
    "    print(link.get('href'))"
   ]
  },
  {
   "cell_type": "code",
   "execution_count": 52,
   "metadata": {},
   "outputs": [],
   "source": [
    "#set up browser\n",
    "browser = Browser('chrome', **executable_path, headless=False)\n",
    "gallery_url = 'https://www.jpl.nasa.gov/images?search=&category=Mars'  #pulled from readme.md instructions\n",
    "\n",
    "browser.visit(gallery_url)\n",
    "time.sleep(5)\n",
    "html = browser.html\n",
    "browser.quit()"
   ]
  },
  {
   "cell_type": "code",
   "execution_count": 53,
   "metadata": {},
   "outputs": [],
   "source": [
    "soup=BeautifulSoup(html, 'html.parser') #returns a soup object"
   ]
  },
  {
   "cell_type": "code",
   "execution_count": 58,
   "metadata": {},
   "outputs": [],
   "source": [
    "out_file = 'pretty.txt'\n",
    "f = open(out_file, 'w')\n",
    "f.write(soup.prettify())\n",
    "f.close()"
   ]
  },
  {
   "cell_type": "code",
   "execution_count": null,
   "metadata": {},
   "outputs": [],
   "source": [
    "import pymongo\n",
    "#conn string\n",
    "mongo_conn= 'mongodb://localhost:27017'\n",
    "\n",
    "pymongo.MongoClient(mongo_conn)"
   ]
  },
  {
   "cell_type": "code",
   "execution_count": 7,
   "metadata": {},
   "outputs": [],
   "source": [
    "#ALWAYS close browser instance \n",
    "browser.quit()"
   ]
  },
  {
   "cell_type": "code",
   "execution_count": null,
   "metadata": {},
   "outputs": [],
   "source": []
  }
 ],
 "metadata": {
  "kernelspec": {
   "display_name": "Python 3",
   "language": "python",
   "name": "python3"
  },
  "language_info": {
   "codemirror_mode": {
    "name": "ipython",
    "version": 3
   },
   "file_extension": ".py",
   "mimetype": "text/x-python",
   "name": "python",
   "nbconvert_exporter": "python",
   "pygments_lexer": "ipython3",
   "version": "3.8.3"
  }
 },
 "nbformat": 4,
 "nbformat_minor": 4
}
